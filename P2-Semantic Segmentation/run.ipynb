{
 "cells": [
  {
   "cell_type": "code",
   "execution_count": 18,
   "metadata": {
    "collapsed": false
   },
   "outputs": [
    {
     "name": "stdout",
     "output_type": "stream",
     "text": [
      "main.py                                       100% 8384    16.2KB/s   00:00    \n"
     ]
    }
   ],
   "source": [
    "cert = 'udacity-term3.pem'\n",
    "remote = 'ubuntu@54.148.115.27'\n",
    "# files = ['README.md', 'helper.py', 'main.py', 'model.py', 'project_tests.py', 'test.py']\n",
    "files = ['main.py']\n",
    "remote_folder = \"/home/ubuntu/project\"\n",
    "# ! ssh -i {cert} {remote} 'mkdir project'\n",
    "for file in files:\n",
    "    ! scp -i {cert} {file} {remote}:{remote_folder}/{file}    "
   ]
  },
  {
   "cell_type": "code",
   "execution_count": 8,
   "metadata": {
    "collapsed": false
   },
   "outputs": [],
   "source": [
    "# command = 'cd project && python main.py'\n",
    "# !ssh -i {cert} {remote} {command}"
   ]
  },
  {
   "cell_type": "code",
   "execution_count": 2,
   "metadata": {
    "collapsed": false
   },
   "outputs": [
    {
     "name": "stdout",
     "output_type": "stream",
     "text": [
      "bash: conda: command not found\r\n"
     ]
    }
   ],
   "source": [
    "command = 'conda install tqdm'\n",
    "!ssh -i {cert} {remote} {command}"
   ]
  },
  {
   "cell_type": "code",
   "execution_count": null,
   "metadata": {
    "collapsed": false
   },
   "outputs": [],
   "source": [
    "# ### send images\n",
    "# # compress\n",
    "# ! tar -czf images.tar.gz IMG\n",
    "# # ssh\n",
    "# ! {login} scp images.tar.gz {remote}:P3/images.tar.gz\n",
    "# # unpack\n",
    "# ! {login} ssh {remote} 'cd P3; tar -xzf images.tar.gz'"
   ]
  },
  {
   "cell_type": "code",
   "execution_count": null,
   "metadata": {
    "collapsed": true
   },
   "outputs": [],
   "source": [
    "# ssh -i \"udacity-term3.pem\" \n",
    "# root@ec2-52-40-178-238.us-west-2.compute.amazonaws.com"
   ]
  },
  {
   "cell_type": "code",
   "execution_count": null,
   "metadata": {
    "collapsed": false
   },
   "outputs": [],
   "source": [
    "# ssh updated driving log\n",
    "# ! {login} scp ./driving_log.csv {remote}:P3/driving_log.csv\n",
    "! {login} scp ./driving_log.csv {remote}:P3/driving_log.csv"
   ]
  },
  {
   "cell_type": "code",
   "execution_count": null,
   "metadata": {
    "collapsed": false
   },
   "outputs": [],
   "source": [
    "# ssh updated model and run model in remote host\n",
    "\n",
    "# preprocess data\n",
    "! {login} scp ./preprocess.py {remote}:P3/preprocess.py\n",
    "! {login} ssh {remote} 'cd P3; python3 preprocess.py'\n",
    "\n",
    "# run cnn\n",
    "! {login} scp ./cnn.py {remote}:P3/cnn.py\n",
    "! {login} ssh {remote} 'cd P3; python3 cnn.py'"
   ]
  },
  {
   "cell_type": "code",
   "execution_count": 19,
   "metadata": {
    "collapsed": false
   },
   "outputs": [],
   "source": [
    "# ! python cnn.py\n",
    "\n",
    "# download model and weights to local machine\n",
    "files = ['model_center.h5', 'model_center.json',\n",
    "         'model_left.h5', 'model_left.json',\n",
    "         'model_right.h5', 'model_right.json']\n",
    "\n",
    "for file in files:\n",
    "    ! {login} scp {remote}:P3/{file} {file}\n",
    "    ! {login} scp {remote}:P3/{file} {file}"
   ]
  }
 ],
 "metadata": {
  "anaconda-cloud": {},
  "kernelspec": {
   "display_name": "Python [conda env:udacity]",
   "language": "python",
   "name": "conda-env-udacity-py"
  },
  "language_info": {
   "codemirror_mode": {
    "name": "ipython",
    "version": 3
   },
   "file_extension": ".py",
   "mimetype": "text/x-python",
   "name": "python",
   "nbconvert_exporter": "python",
   "pygments_lexer": "ipython3",
   "version": "3.5.2"
  }
 },
 "nbformat": 4,
 "nbformat_minor": 1
}
